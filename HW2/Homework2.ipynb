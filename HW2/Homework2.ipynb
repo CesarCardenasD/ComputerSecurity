{
  "nbformat": 4,
  "nbformat_minor": 0,
  "metadata": {
    "colab": {
      "provenance": []
    },
    "kernelspec": {
      "name": "python3",
      "display_name": "Python 3"
    },
    "language_info": {
      "name": "python"
    }
  },
  "cells": [
    {
      "cell_type": "markdown",
      "source": [
        "#Homework 2"
      ],
      "metadata": {
        "id": "-xumZDK1F5L4"
      }
    },
    {
      "cell_type": "markdown",
      "source": [
        "#PICO CTF"
      ],
      "metadata": {
        "id": "rqUiQ1l2LwW2"
      }
    },
    {
      "cell_type": "markdown",
      "source": [
        "#Cookies"
      ],
      "metadata": {
        "id": "rObEty2k9Kz2"
      }
    },
    {
      "cell_type": "markdown",
      "source": [
        "The process involves accessing a redirected page from a link, where we encounter a form. In this form, we input a word as a placeholder. Simultaneously, we receive a default message while changing the value of a cookie in the page inspection window, incrementing from 0 to 17. When reaching the value 18, the PICO flag is revealed."
      ],
      "metadata": {
        "id": "_1EPv87sH9wQ"
      }
    },
    {
      "cell_type": "markdown",
      "source": [
        "![texto alternativo](https://drive.google.com/uc?id=1ymWiPsDSpcPGgmKUHq-a0FjevIvWAelx)"
      ],
      "metadata": {
        "id": "j4KT79VjGbSS"
      }
    },
    {
      "cell_type": "markdown",
      "source": [
        "![texto alternativo](https://drive.google.com/uc?id=109VJLL30VuFT-moLvTtA-xw2ZqP_4R46)"
      ],
      "metadata": {
        "id": "BYkQyRGfHpHg"
      }
    },
    {
      "cell_type": "markdown",
      "source": [
        "![texto alternativo](https://drive.google.com/uc?id=1xGDyBNe73zc2rIcto50dP1FSktAmPQWX)"
      ],
      "metadata": {
        "id": "-4VjankaH16g"
      }
    },
    {
      "cell_type": "markdown",
      "source": [
        "#Bookmarklet"
      ],
      "metadata": {
        "id": "-CIxlKC-IO3w"
      }
    },
    {
      "cell_type": "markdown",
      "source": [
        "![texto alternativo](https://drive.google.com/uc?id=1U5ZILsA4DP3JwTZ-0cmayEZmJET7V-V_)"
      ],
      "metadata": {
        "id": "_U0DZh0CVOci"
      }
    },
    {
      "cell_type": "markdown",
      "source": [
        "#Insp3ct0r"
      ],
      "metadata": {
        "id": "b0UFtK4fVMdQ"
      }
    },
    {
      "cell_type": "markdown",
      "source": [
        "![texto alternativo](https://drive.google.com/uc?id=1tkOscqqKEUMMbRxvKHe8I01FB8_4kBKZ)"
      ],
      "metadata": {
        "id": "RZDisnivoPZx"
      }
    },
    {
      "cell_type": "markdown",
      "source": [
        "![texto alternativo](https://drive.google.com/uc?id=1Sc15PbKKFUDJgMBgNOFI8_F6nUSUZQfh)"
      ],
      "metadata": {
        "id": "Lcu8V9RYoWe3"
      }
    },
    {
      "cell_type": "markdown",
      "source": [
        "![texto alternativo](https://drive.google.com/uc?id=1_6PoB0fQJQVxs7qvV65frLkd8Ib_6tFc)"
      ],
      "metadata": {
        "id": "HwrCA2s0oaAv"
      }
    },
    {
      "cell_type": "markdown",
      "source": [
        "Html is neat. Anyways have 1/3 of the flag:\n",
        "picoCTF{tru3_d3\n",
        "\n",
        "You need CSS to make pretty pages. Here's part 2/3 of the flag: t3ct1ve_0r_ju5t\n",
        "\n",
        "Javascript sure is neat. Anyways part 3/3 of the flag: _lucky?f10be399}\n",
        "\n",
        "*  picoCTF{tru3_d3t3ct1ve_0r_ju5t_lucky?f10be399}\n"
      ],
      "metadata": {
        "id": "Vu8eVImvVuLg"
      }
    },
    {
      "cell_type": "markdown",
      "source": [
        "#Scavenger Hunt"
      ],
      "metadata": {
        "id": "Phea3loZWlwf"
      }
    },
    {
      "cell_type": "markdown",
      "source": [
        "![texto alternativo](https://drive.google.com/uc?id=1IsdVZBE81-Qd1H89bJej4RKuasYgtZFJ)\n",
        "![texto alternativo](https://drive.google.com/uc?id=1ewHk9SNJ9FwOaoTxwknvjaEKj3YhrMSZ)\n",
        "![texto alternativo](https://drive.google.com/uc?id=1DQsvuaDBEEM8wRAV6c5lt481mcElVf5G)"
      ],
      "metadata": {
        "id": "KchUh2Oso2-W"
      }
    },
    {
      "cell_type": "markdown",
      "source": [
        "Here's the first part of the flag: picoCTF{t\n",
        "\n",
        "Disallow: /index.html\n",
        " Part 3: t_0f_pl4c\n",
        " I think this is an apache server... can you Access the next flag?\n",
        "\n",
        "\n",
        "CSS makes the page look nice, and yes, it also has part of the flag. Here's part 2: h4ts_4_l0\n",
        "\n",
        "Part 4: 3s_2_lO0k\n",
        "I love making websites on my Mac, I can Store a lot of information there.\n",
        "\n",
        "Congrats! You completed the scavenger hunt. Part 5: _fa04427c}\n",
        "\n",
        "* picoCTF{th4ts_4_l0t_0f_pl4c3s_2_lO0k_fa04427c}"
      ],
      "metadata": {
        "id": "hRIaDg43WxY4"
      }
    },
    {
      "cell_type": "markdown",
      "source": [
        "#WebDecode"
      ],
      "metadata": {
        "id": "w8rqR1YsaIVv"
      }
    },
    {
      "cell_type": "markdown",
      "source": [
        "![texto alternativo](https://drive.google.com/uc?id=15DlIWss6Z_cESgUOR-e4W6xcGpIU2MHX)\n",
        "![texto alternativo](https://drive.google.com/uc?id=1s96WzrrQT0a_doyejF5wWHyAaFh5OYzY)"
      ],
      "metadata": {
        "id": "9BKlRFVEpFl3"
      }
    },
    {
      "cell_type": "markdown",
      "source": [
        "#More Cookies"
      ],
      "metadata": {
        "id": "si_CeXdPavv_"
      }
    },
    {
      "cell_type": "markdown",
      "source": [
        "![texto alternativo](https://drive.google.com/uc?id=1tLnutAmmxuEcJXdOXJc9cNS2EMuWl_S5)"
      ],
      "metadata": {
        "id": "fn3VEs6GpVJ-"
      }
    },
    {
      "cell_type": "markdown",
      "source": [
        " 9%|▉         | 9/96 [00:05<00:53,  1.62it/s]Admin bit found in byte 9 bit 0.\n",
        "Flag: picoCTF{cO0ki3s_yum_e40d16a9}"
      ],
      "metadata": {
        "id": "7Nq-TEcsgN63"
      }
    },
    {
      "cell_type": "markdown",
      "source": [
        "# Dont-use-client-side"
      ],
      "metadata": {
        "id": "6vsZda65evH_"
      }
    },
    {
      "cell_type": "markdown",
      "source": [
        "![texto alternativo](https://drive.google.com/uc?id=1pyECkwpTZKpUlMmBHw0gYQwdjhP3Q5uu)"
      ],
      "metadata": {
        "id": "m3Z7oPRAppPg"
      }
    },
    {
      "cell_type": "markdown",
      "source": [
        "picoCTF{no_clients_plz_7723ce}"
      ],
      "metadata": {
        "id": "BhRB0EuzeuJo"
      }
    },
    {
      "cell_type": "markdown",
      "source": [
        "#logon"
      ],
      "metadata": {
        "id": "r2GdvJFJfG7A"
      }
    },
    {
      "cell_type": "markdown",
      "source": [
        "![texto alternativo](https://drive.google.com/uc?id=1plYJdI42mq8_8bkz9yCxslOo49iXkIHa)\n",
        "![texto alternativo](https://drive.google.com/uc?id=1DRq7UkA121-dPAaKKFDdpO-PuxBb7zVx)\n"
      ],
      "metadata": {
        "id": "rpPrUmTMqZPO"
      }
    },
    {
      "cell_type": "markdown",
      "source": [
        "#Who are you?"
      ],
      "metadata": {
        "id": "kRGI8aJcqckO"
      }
    },
    {
      "cell_type": "markdown",
      "source": [
        "User-Agent: PicoBrowser\n",
        "\n",
        "Date: 2018\n",
        "\n",
        "DNT: 1\n",
        "\n",
        "X-Forwarded-For: 2.16.66.0\n",
        "\n",
        "Accept-Language: sv"
      ],
      "metadata": {
        "id": "9wNzr8g1qiSm"
      }
    },
    {
      "cell_type": "markdown",
      "source": [
        "![texto alternativo](https://drive.google.com/uc?id=10da8Hl_8gfM0G1ars055MQrVP-bzJz2i)\n",
        "![texto alternativo](https://drive.google.com/uc?id=1jF8D87Tsm_XXvd69bf2cXJRfTBiHd8_g)\n",
        "![texto alternativo](https://drive.google.com/uc?id=1eYK_JmGZ6SF0D9nqrJ1RSTeZph1sFaGK)\n",
        "![texto alternativo](https://drive.google.com/uc?id=18HhdHbLfA_K5pPnwv77BxB9vhilVRnHq)\n",
        "![texto alternativo](https://drive.google.com/uc?id=1o_WKAYa3AzJufMrTaAZFLpNhrnJQc0NF)"
      ],
      "metadata": {
        "id": "vZeC4Jl8qb02"
      }
    }
  ]
}